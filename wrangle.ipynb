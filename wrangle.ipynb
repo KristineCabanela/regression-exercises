{
 "cells": [
  {
   "cell_type": "markdown",
   "id": "09161117",
   "metadata": {},
   "source": [
    "# Acquire and Prep - Wrangle\n"
   ]
  },
  {
   "cell_type": "markdown",
   "id": "948c4985",
   "metadata": {},
   "source": [
    "Acquire bedroomcnt, bathroomcnt, calculatedfinishedsquarefeet, taxvaluedollarcnt, yearbuilt, taxamount, and fips from the zillow database for all 'Single Family Residential' properties.\n",
    "\n",
    "\n",
    "Using your acquired Zillow data, walk through the summarization and cleaning steps in your wrangle.ipynb file like we did above. You may handle the missing values however you feel is appropriate and meaninful; remember to document your process and decisions using markdown and code commenting where helpful.\n",
    "\n",
    "\n",
    "Store all of the necessary functions to automate your process from acquiring the data to returning a cleaned dataframe witn no missing values in your wrangle.py file. Name your final function wrangle_zillow."
   ]
  },
  {
   "cell_type": "code",
   "execution_count": 5,
   "id": "4e3a70fb",
   "metadata": {},
   "outputs": [],
   "source": [
    "import warnings\n",
    "warnings.filterwarnings(\"ignore\")\n",
    "\n",
    "import pandas as pd\n",
    "import matplotlib.pyplot as plt\n",
    "import seaborn as sns\n",
    "import numpy as np\n",
    "import env"
   ]
  },
  {
   "cell_type": "code",
   "execution_count": 6,
   "id": "68c842c2",
   "metadata": {},
   "outputs": [],
   "source": [
    "def get_db_url(db_name):\n",
    "    return f\"mysql+pymysql://{user}:{password}@{host}/{db_name}\""
   ]
  },
  {
   "cell_type": "code",
   "execution_count": 7,
   "id": "2a8d1348",
   "metadata": {},
   "outputs": [],
   "source": [
    "def get_data_from_sql():\n",
    "    query = \"\"\"\n",
    "    SELECT bedroomcnt, \n",
    "       bathroomcnt,\n",
    "       calculatedfinishedsquarefeet,\n",
    "       taxamount,\n",
    "       taxvaluedollarcnt as home_value,\n",
    "       propertylandusedesc, \n",
    "       fips as fips_number,\n",
    "       regionidzip as zip_code\n",
    "    FROM predictions_2017\n",
    "    JOIN properties_2017 USING(id)\n",
    "    JOIN propertylandusetype USING(propertylandusetypeid)\n",
    "    WHERE (transactiondate >= '2017-05-01' AND transactiondate <= '2017-06-30') \n",
    "        AND propertylandusetypeid = '261'\n",
    "        AND bedroomcnt > 0\n",
    "        AND bathroomcnt > 0\n",
    "        AND calculatedfinishedsquarefeet > 0 \n",
    "        AND taxamount > 0\n",
    "        AND taxvaluedollarcnt > 0\n",
    "        AND fips > 0\n",
    "    ORDER BY fips;\n",
    "    \"\"\"\n",
    "    df = pd.read_sql(query, get_db_url('zillow'))\n",
    "    return df"
   ]
  },
  {
   "cell_type": "code",
   "execution_count": 11,
   "id": "6f3c2cd3",
   "metadata": {},
   "outputs": [
    {
     "ename": "AttributeError",
     "evalue": "'function' object has no attribute 'head'",
     "output_type": "error",
     "traceback": [
      "\u001b[0;31m---------------------------------------------------------------------------\u001b[0m",
      "\u001b[0;31mAttributeError\u001b[0m                            Traceback (most recent call last)",
      "\u001b[0;32m<ipython-input-11-e0eae4ea4d74>\u001b[0m in \u001b[0;36m<module>\u001b[0;34m\u001b[0m\n\u001b[0;32m----> 1\u001b[0;31m \u001b[0mget_data_from_sql\u001b[0m\u001b[0;34m.\u001b[0m\u001b[0mhead\u001b[0m\u001b[0;34m\u001b[0m\u001b[0;34m\u001b[0m\u001b[0m\n\u001b[0m",
      "\u001b[0;31mAttributeError\u001b[0m: 'function' object has no attribute 'head'"
     ]
    }
   ],
   "source": [
    "get_data_from_sql.head"
   ]
  },
  {
   "cell_type": "code",
   "execution_count": null,
   "id": "4cd40600",
   "metadata": {},
   "outputs": [],
   "source": []
  }
 ],
 "metadata": {
  "kernelspec": {
   "display_name": "Python 3",
   "language": "python",
   "name": "python3"
  },
  "language_info": {
   "codemirror_mode": {
    "name": "ipython",
    "version": 3
   },
   "file_extension": ".py",
   "mimetype": "text/x-python",
   "name": "python",
   "nbconvert_exporter": "python",
   "pygments_lexer": "ipython3",
   "version": "3.8.8"
  }
 },
 "nbformat": 4,
 "nbformat_minor": 5
}
